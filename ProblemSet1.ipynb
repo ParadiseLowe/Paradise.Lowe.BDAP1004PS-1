{
 "cells": [
  {
   "cell_type": "markdown",
   "id": "98ccce9d",
   "metadata": {},
   "source": [
    "# Question 1\n",
    "\n",
    "## What data type is each of the following (evaluate where necessary)?\n",
    "\n",
    "5\n",
    "5.0\n",
    "5 > 1\n",
    "'5'\n",
    "5 * 2\n",
    "'5' * 2\n",
    "'5' + '2'\n",
    "5 / 2\n",
    "{5, 2, 1}\n",
    "5 == 3\n",
    "Pi (the number)\n"
   ]
  },
  {
   "cell_type": "markdown",
   "id": "291aa157",
   "metadata": {},
   "source": [
    "# Solution 1\n",
    "\n",
    "5 : integer (int)\n",
    "\n",
    "5.0 : float (float) (depicted by decimals)\n",
    "\n",
    "5 > 1: Boolean (bool) ( this is a comparison between 5 and 1 using the grreater than operator, the result will be a boolean value,boolean can either be true or false)\n",
    "\n",
    "'5': string (str) ( even though 5 is an integer all data enclosed in quotations belong to string data type)\n",
    "\n",
    "5 * 2: integer ( the result of this expression is an integer)\n",
    "\n",
    "'5' * 2 : string ( this expression repeats the string two times to give '55')\n",
    "\n",
    "'5' + '2' : string ( this concatenates the '5' and '2' together resulting in the string '52'\n",
    "\n",
    "5 / 2 : float (here when using / operator the result is a float 2.5)\n",
    "\n",
    "{5, 2, 1} : set (defined with curly braces, and is an unordered collection of elements)\n",
    "\n",
    "5 == 3 : boolean ( the comparison operator \"is equal to\" being used results in false)\n",
    "\n",
    "Pi (the number) : float \n"
   ]
  },
  {
   "cell_type": "markdown",
   "id": "fc9d9df5",
   "metadata": {},
   "source": [
    "# Question 2\n",
    "\n",
    "\n",
    "## Write (and evaluate) python expressions that answer these questions:\n",
    "\n",
    " a. How many letters are there in 'Supercalifragilisticexpialidocious'?\n",
    " \n",
    " b. Does 'Supercalifragilisticexpialidocious' contain 'ice' as a substring?\n",
    " \n",
    " c. Which of the following words is the longest: Supercalifragilisticexpialidocious, Honorificabilitudinitatibus, or\n",
    "Bababadalgharaghtakamminarronnkonn?\n",
    "\n",
    "d. Which composer comes first in the dictionary: 'Berlioz', 'Borodin', 'Brian','Bartok', 'Bellini', 'Buxtehude', 'Bernstein'. Which one comes last?\n",
    "\n",
    "\n",
    "# Solution 2 a (IN [3]) ,b (IN [4]) ,c (IN [6]),d IN[8] "
   ]
  },
  {
   "cell_type": "code",
   "execution_count": 3,
   "id": "d4d8e1a4",
   "metadata": {},
   "outputs": [
    {
     "name": "stdout",
     "output_type": "stream",
     "text": [
      "34\n"
     ]
    }
   ],
   "source": [
    "superWord = 'Supercalifragilisticexpialidocious'\n",
    "print(len(superWord))\n",
    "\n",
    "#The len() function here returns the number of characters the string in variable superWord\n"
   ]
  },
  {
   "cell_type": "code",
   "execution_count": 4,
   "id": "529c4a16",
   "metadata": {},
   "outputs": [
    {
     "name": "stdout",
     "output_type": "stream",
     "text": [
      "True\n"
     ]
    }
   ],
   "source": [
    "superWord = 'Supercalifragilisticexpialidocious'\n",
    "print('ice' in superWord)\n",
    "\n",
    "#the string operator \"in\" checks for the substring \"ice\" inside of superWord"
   ]
  },
  {
   "cell_type": "code",
   "execution_count": 11,
   "id": "b792bdaf",
   "metadata": {},
   "outputs": [
    {
     "name": "stdout",
     "output_type": "stream",
     "text": [
      "Supercalifragilisticexpialidocious\n"
     ]
    }
   ],
   "source": [
    "superWord = 'Supercalifragilisticexpialidocious'\n",
    "superWord2 = 'Honorificabilitudinitatibus'\n",
    "superWord3 = 'Bababadalgharaghtakamminarronnkonn'\n",
    "\n",
    "if len(superWord) > len(superWord2):\n",
    "    print(superWord)\n",
    "else:\n",
    "    print(superWord2)\n",
    "if len(superWord2) > len(superWord3):\n",
    "    print(superWord3)\n",
    "\n",
    "# first the lengths superWord and superWord2 are compared using a comparison operator and len function\n",
    "#then superWord2 and 3 are compared "
   ]
  },
  {
   "cell_type": "code",
   "execution_count": 12,
   "id": "e7568789",
   "metadata": {},
   "outputs": [
    {
     "name": "stdout",
     "output_type": "stream",
     "text": [
      "First Composer: Bartok\n",
      "Last Composer: Buxtehude\n"
     ]
    }
   ],
   "source": [
    "\n",
    "#a dictionary of a set of composers names\n",
    "composer = {'Berlioz', 'Borodin', 'Brian','Bartok', 'Bellini', 'Buxtehude', 'Bernstein'}\n",
    "\n",
    "#the fist composer using the min function based on the default string ordering in Python\n",
    "firstComp = min(composer)\n",
    "\n",
    "#the last composer using the max function \n",
    "lastComp = max(composer)\n",
    "\n",
    "print('First Composer:', firstComp)\n",
    "print('Last Composer:', lastComp)\n",
    "\n",
    "#The ordering of first and last is based on Python's default string ordering"
   ]
  },
  {
   "cell_type": "markdown",
   "id": "aa849474",
   "metadata": {},
   "source": [
    "# Question 3\n",
    "\n",
    "Implement function triangleArea(a,b,c) that takes as input the lengths of the 3 sides of a triangle and returns the area of the\n",
    "\n",
    "triangle. By Heron's formula, the area of a triangle with side lengths a, b, and c is s(s - a)(s -b)(s -c), where s = (a +b + c) \n",
    "\n",
    "/2.\n",
    "\n",
    "\n",
    "# Solution 3"
   ]
  },
  {
   "cell_type": "code",
   "execution_count": 9,
   "id": "7e7dfac4",
   "metadata": {},
   "outputs": [
    {
     "name": "stdout",
     "output_type": "stream",
     "text": [
      "1.7320508075688772\n"
     ]
    }
   ],
   "source": [
    "#define triangleArea function with parameters a,b,c\n",
    "#call the function and apply arguments to parameters (a=2, b=2, c=2)\n",
    "\n",
    "def triangleArea(a, b, c):\n",
    "    import math\n",
    "    s = ((a + b + c)/2)\n",
    "    number = math.sqrt(s*(s-a)*(s-b)*(s-c))\n",
    "    return number\n",
    " \n",
    "print (triangleArea(a=2, b=2, c=2))\n"
   ]
  },
  {
   "cell_type": "markdown",
   "id": "0c0996ab",
   "metadata": {},
   "source": [
    "# Question 4\n",
    "\n",
    "Write a program in python to separate odd and even integers in separate arrays.\n",
    "\n",
    "Input the number of elements to be stored in the array :5\n",
    "Input 5 elements in the array :\n",
    "element - 0 : 25\n",
    "element - 1 : 47\n",
    "element - 2 : 42\n",
    "element - 3 : 56\n",
    "element - 4 : 32\n",
    "\n",
    "# Solution 4"
   ]
  },
  {
   "cell_type": "code",
   "execution_count": 9,
   "id": "a0a72a20",
   "metadata": {},
   "outputs": [
    {
     "name": "stdout",
     "output_type": "stream",
     "text": [
      "Odd numbers:  [47, 25]\n",
      "Even numbers:  [32, 56, 42]\n"
     ]
    }
   ],
   "source": [
    "lst = [25, 47, 42, 56, 32]\n",
    "\n",
    "#empty lists to store odd and even numbers\n",
    "oddInt = []    \n",
    "evenInt = []\n",
    "\n",
    "#iterate through the list and loop until list is empty\n",
    "while lst:\n",
    "    num = lst.pop()              #removes and retrieves the last element from the list\n",
    "    if num % 2 == 0:             #if num divided by 2's remainder is 0 then\n",
    "        evenInt.append(num)      #add num to even numbers list\n",
    "    else: \n",
    "        oddInt.append(num)       #else add num to odd numbers list\n",
    "        \n",
    "print(\"Odd numbers: \", oddInt)    #prints odd numbers\n",
    "print(\"Even numbers: \", evenInt)  #prints even numbers\n",
    "\n"
   ]
  },
  {
   "cell_type": "markdown",
   "id": "3cc2481e",
   "metadata": {},
   "source": [
    "# Question 5\n",
    "\n",
    "a. Write a function inside(x,y,x1,y1,x2,y2) that returns True or False depending on whether the point (x,y) lies in the \n",
    "\n",
    "rectangle with lower left corner (x1,y1) and upper right corner (x2,y2).\n",
    "\n",
    "b. Use function inside() from part a. to write an expression that tests whether the point (1,1) lies in both of the following \n",
    "\n",
    "rectangles: one with lower left corner (0.3, 0.5) and upper right corner (1.1, 0.7) and the other with lower left corner (0.5, \n",
    "\n",
    "0.2) and upper right corner (1.1, 2).\n",
    "\n",
    "\n",
    "# Solution 5 (5a - IN10,11), (5b - IN 1,2)"
   ]
  },
  {
   "cell_type": "code",
   "execution_count": 10,
   "id": "f39633e6",
   "metadata": {},
   "outputs": [
    {
     "data": {
      "text/plain": [
       "True"
      ]
     },
     "execution_count": 10,
     "metadata": {},
     "output_type": "execute_result"
    }
   ],
   "source": [
    "def inside(x,y,x1,y1,x2,y2):\n",
    "    if x1<= x <= x2 and y1 <= y < y2:\n",
    "        return True\n",
    "    else:\n",
    "        return False\n",
    "inside(x=1,y=1,x1=0,y1=0,x2=2,y2=3)\n",
    "\n"
   ]
  },
  {
   "cell_type": "code",
   "execution_count": 11,
   "id": "c7201172",
   "metadata": {},
   "outputs": [
    {
     "data": {
      "text/plain": [
       "False"
      ]
     },
     "execution_count": 11,
     "metadata": {},
     "output_type": "execute_result"
    }
   ],
   "source": [
    "def inside(x,y,x1,y1,x2,y2):\n",
    "    if x1<= x <= x2 and y1 <= y < y2:\n",
    "        return True\n",
    "    else:\n",
    "        return False\n",
    "inside(x=-1,y=-1,x1=0,y1=0,x2=2,y2=3)"
   ]
  },
  {
   "cell_type": "code",
   "execution_count": 1,
   "id": "4049f99a",
   "metadata": {},
   "outputs": [
    {
     "data": {
      "text/plain": [
       "False"
      ]
     },
     "execution_count": 1,
     "metadata": {},
     "output_type": "execute_result"
    }
   ],
   "source": [
    "def inside(x,y,x1,y1,x2,y2):\n",
    "    if x1<= x <= x2 and y1 <= y < y2:\n",
    "        return True\n",
    "    else:\n",
    "        return False\n",
    "inside(x=1,y=1,x1=0.3,y1=0.5,x2=1.1,y2=0.7)\n",
    "\n"
   ]
  },
  {
   "cell_type": "code",
   "execution_count": 2,
   "id": "31fdb2e0",
   "metadata": {},
   "outputs": [
    {
     "data": {
      "text/plain": [
       "True"
      ]
     },
     "execution_count": 2,
     "metadata": {},
     "output_type": "execute_result"
    }
   ],
   "source": [
    "def inside(x,y,x1,y1,x2,y2):\n",
    "    if x1<= x <= x2 and y1 <= y < y2:\n",
    "        return True\n",
    "    else:\n",
    "        return False\n",
    "inside(x=1,y=1,x1=0.5,y1=0.2,x2=1.1,y2=2)\n",
    "\n"
   ]
  },
  {
   "cell_type": "markdown",
   "id": "ff99920d",
   "metadata": {},
   "source": [
    "# Question 6\n",
    "\n",
    "You can turn a word into pig-Latin using the following two rules (simplified):\n",
    "\n",
    "• If the word starts with a consonant, move that letter to the end and append 'ay'. For example, 'happy' becomes 'appyhay' and 'pencil' becomes 'encilpay'.\n",
    "\n",
    "• If the word starts with a vowel, simply append 'way' to the end of the word. For example, 'enter' becomes 'enterway' and 'other' becomes 'otherway' . For our purposes, there are 5 vowels: a, e, i, o, u (so we count y as a consonant).\n",
    "\n",
    "Write a function pig() that takes a word (i.e., a string) as input and returns its pig-Latin form. Your function should still\n",
    "work if the input word contains upper case characters. \n",
    "\n",
    "Your output should always be lower case however.\n",
    "\n",
    "# Solution 6 "
   ]
  },
  {
   "cell_type": "code",
   "execution_count": 17,
   "id": "eff0cfc2",
   "metadata": {},
   "outputs": [
    {
     "name": "stdout",
     "output_type": "stream",
     "text": [
      "appyhay\n"
     ]
    }
   ],
   "source": [
    "def pig(word):\n",
    "    happy = word.lower()\n",
    "    if happy[0] in [\"a\",\"e\",\"i\",\"o\",\"u\"]:\n",
    "        pig_latin = happy + \"way\"\n",
    "    else: \n",
    "        pig_latin = happy[1:] + happy[0] + \"ay\"\n",
    "    print(pig_latin)\n",
    "pig(\"happy\")\n",
    "    "
   ]
  },
  {
   "cell_type": "code",
   "execution_count": 19,
   "id": "0dee9d9e",
   "metadata": {},
   "outputs": [
    {
     "name": "stdout",
     "output_type": "stream",
     "text": [
      "enterway\n"
     ]
    }
   ],
   "source": [
    "def pig(word):\n",
    "    enter = word.lower()\n",
    "    if enter[0] in [\"a\",\"e\",\"i\",\"o\",\"u\"]:\n",
    "        pig_latin = enter+ \"way\"\n",
    "    else: \n",
    "        pig_latin = enter[1:] + enter[0] + \"ay\"\n",
    "    print(pig_latin)\n",
    "pig(\"enter\")\n",
    "    "
   ]
  },
  {
   "cell_type": "markdown",
   "id": "b2169792",
   "metadata": {},
   "source": [
    "# Question 7\n",
    "\n",
    "File bloodtype1.txt records blood-types of patients (A, B, AB, O or OO) \n",
    "at a clinic. Write a function bldcount() that reads the file with name \n",
    "name and reports (i.e., prints) how many patients there are in each bloodtype.\n",
    "\n",
    "# Solution 7"
   ]
  },
  {
   "cell_type": "code",
   "execution_count": 18,
   "id": "09c7336c",
   "metadata": {},
   "outputs": [
    {
     "name": "stdout",
     "output_type": "stream",
     "text": [
      "Blood type A has 28 patients\n",
      "Blood type AB has 13 patients\n",
      "Blood type B has 14 patients\n",
      "Blood type O has 15 patients\n",
      "Blood type OO has 0 patients\n"
     ]
    }
   ],
   "source": [
    "infile = open(\"bloodtype1.txt\")\n",
    "content = infile.read()\n",
    "for char in content:\n",
    "    print(\"Blood type A has\", content.count(\"A\"), \"patients\")\n",
    "    print(\"Blood type AB has\", content.count(\"AB\"), \"patients\")\n",
    "    print(\"Blood type B has\", content.count(\"B\"), \"patients\")\n",
    "    print(\"Blood type O has\", content.count(\"O\"), \"patients\")\n",
    "    print(\"Blood type OO has\", content.count(\"OO\"),\"patients\")\n",
    "    break \n"
   ]
  },
  {
   "cell_type": "markdown",
   "id": "8c003f45",
   "metadata": {},
   "source": [
    "# Question 8\n",
    "\n",
    "Write a function curconv() that takes as input:\n",
    "\n",
    "1. a currency represented using a string (e.g., 'JPY' for the Japanese Yen or 'EUR' for the Euro)]\n",
    "\n",
    "2. an amount and then converts and returns the amount in US dollars.\n",
    "\n",
    "# Solution 8"
   ]
  },
  {
   "cell_type": "code",
   "execution_count": 15,
   "id": "af2349d4",
   "metadata": {},
   "outputs": [],
   "source": [
    "def curconv(x, y):\n",
    "    infile = open(\"currencies.txt\")\n",
    "    content = infile.readlines()\n",
    "    infile.close()\n",
    "\n",
    "\n"
   ]
  },
  {
   "cell_type": "markdown",
   "id": "3103cda7",
   "metadata": {},
   "source": [
    "# Question 9\n",
    "\n",
    "Each of the following will cause an exception (an error). Identify what type of exception each will cause.\n",
    "\n",
    "Trying to add incompatible variables, as in adding 6 + ‘a’\n",
    "\n",
    "Referring to the 12th item of a list that has only 10 items\n",
    "\n",
    "Using a value that is out of range for a function’s input, such as calling math.sqrt( 1.0)\n",
    "\n",
    "Using an undeclared variable, such as print(x) when x has not been defined\n",
    "\n",
    "Trying to open a file that does not exist, such as mistyping the file name or looking in the wrong directory\n",
    "\n",
    "\n",
    "# Solution 9\n",
    "\n",
    "When adding incompatible variables a type error is caused.\n",
    "\n",
    "An index error is caused when referring to the 12th item of a list that only has 10 items.\n",
    "\n",
    "Using a value that is out of range for a function's input is a value error.\n",
    "\n",
    "Using an undeclared variable yields a name error.\n",
    "\n",
    "Trying to open a file that does not exist gives a file not found error.\n"
   ]
  },
  {
   "cell_type": "markdown",
   "id": "4bd523a6",
   "metadata": {},
   "source": [
    "# Question 10\n",
    "\n",
    "Write a function called frequencies() that takes a string as its only parameter, and returns a list of integers, showing the \n",
    "number of times each character appears in the text. Your function may ignore any characters that are not in letters.\n",
    "\n",
    "\n",
    "# Solution 10\n"
   ]
  },
  {
   "cell_type": "code",
   "execution_count": 14,
   "id": "c9678566",
   "metadata": {},
   "outputs": [
    {
     "name": "stdout",
     "output_type": "stream",
     "text": [
      "[1, 0, 0, 0, 1, 0, 0, 0, 0, 0, 0, 1, 0, 0, 0, 2, 0, 0, 0, 0, 0, 0, 0, 0, 0, 0]\n"
     ]
    }
   ],
   "source": [
    "def frequencies(text):\n",
    "    letters = \"abcdefghijklmnopqrstuvwxyz\"\n",
    "    letterCounts = [0] * 26\n",
    "    for char in text:\n",
    "        if char.lower() in letters:\n",
    "            index = letters.index(char.lower())\n",
    "            letterCounts[index] += 1\n",
    "    return letterCounts\n",
    "text = \"apple\"\n",
    "result = frequencies(text)\n",
    "print(result)\n",
    "            \n",
    "   "
   ]
  },
  {
   "cell_type": "code",
   "execution_count": null,
   "id": "1a63efe5",
   "metadata": {},
   "outputs": [],
   "source": []
  },
  {
   "cell_type": "code",
   "execution_count": null,
   "id": "4273120b",
   "metadata": {},
   "outputs": [],
   "source": []
  }
 ],
 "metadata": {
  "kernelspec": {
   "display_name": "Python 3 (ipykernel)",
   "language": "python",
   "name": "python3"
  },
  "language_info": {
   "codemirror_mode": {
    "name": "ipython",
    "version": 3
   },
   "file_extension": ".py",
   "mimetype": "text/x-python",
   "name": "python",
   "nbconvert_exporter": "python",
   "pygments_lexer": "ipython3",
   "version": "3.10.9"
  }
 },
 "nbformat": 4,
 "nbformat_minor": 5
}
